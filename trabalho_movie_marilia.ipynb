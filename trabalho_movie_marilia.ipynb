{
 "cells": [
  {
   "cell_type": "markdown",
   "id": "4e8c507b",
   "metadata": {},
   "source": [
    "Perguntas:\n",
    "- Quantos gêneros o filme \"The Matrix\" tem? Quais são os gêneros?\n",
    "- Quantos gêneros cada filme tem, em média?\n",
    "- Quais são os cinco filmes com maior número de gêneros?\n",
    "- Quantos usuários deram nota para o filme \"The Matrix\"?\n",
    "- Quantos usuários, em média, deram nota para cada filme?\n",
    "- Quais são os cinco filmes para os quais mais usuários deram nota?\n",
    "- Qual o rating médio do filme \"The Matrix\"?\n",
    "- Cada filme tem um rating médio. Qual a média desses ratings, por gênero?\n",
    "- Para cada gênero de filme, quantos usuários deram cada nota possível?"
   ]
  },
  {
   "cell_type": "markdown",
   "id": "08f1dd1e",
   "metadata": {},
   "source": [
    "Dicas:\n",
    "1. Só é necessário as tabelas movies e ratings para este projeto.\n",
    "2. Pesquise a função \"explode\" no pandas. Ela pode ser útil."
   ]
  },
  {
   "cell_type": "code",
   "execution_count": 235,
   "id": "8f656cf4",
   "metadata": {},
   "outputs": [
    {
     "name": "stdout",
     "output_type": "stream",
     "text": [
      "<class 'pandas.core.frame.DataFrame'>\n",
      "RangeIndex: 100836 entries, 0 to 100835\n",
      "Data columns (total 4 columns):\n",
      " #   Column     Non-Null Count   Dtype  \n",
      "---  ------     --------------   -----  \n",
      " 0   userId     100836 non-null  int64  \n",
      " 1   movieId    100836 non-null  int64  \n",
      " 2   rating     100836 non-null  float64\n",
      " 3   timestamp  100836 non-null  int64  \n",
      "dtypes: float64(1), int64(3)\n",
      "memory usage: 3.1 MB\n"
     ]
    }
   ],
   "source": [
    "import pandas as pd\n",
    "import numpy as np\n",
    "\n",
    "df_rating = pd.read_table('C:/Users/mariliada/Desktop/LETS_CODE/trabalho/movie/ratings.csv',\n",
    "header=0, sep=',', decimal = '.')\n",
    "df_rating.head()\n",
    "df_rating.info()"
   ]
  },
  {
   "cell_type": "code",
   "execution_count": 238,
   "id": "0088221b",
   "metadata": {},
   "outputs": [
    {
     "name": "stdout",
     "output_type": "stream",
     "text": [
      "<class 'pandas.core.frame.DataFrame'>\n",
      "Int64Index: 22084 entries, 0 to 9741\n",
      "Data columns (total 4 columns):\n",
      " #   Column   Non-Null Count  Dtype \n",
      "---  ------   --------------  ----- \n",
      " 0   movieId  22084 non-null  int64 \n",
      " 1   title    22084 non-null  object\n",
      " 2   genres   22084 non-null  object\n",
      " 3   generos  22084 non-null  object\n",
      "dtypes: int64(1), object(3)\n",
      "memory usage: 862.7+ KB\n"
     ]
    }
   ],
   "source": [
    "df_movie = pd.read_table('C:/Users/mariliada/Desktop/LETS_CODE/trabalho/movie/movies.csv',\n",
    "header=0, sep=',' )\n",
    "#df2['genres'].replace('|','*')\n",
    "df_movie['generos'] = df_movie.genres.str.split('|')\n",
    "df_movie_splited = df_movie.explode('generos')\n",
    "df_movie_splited\n",
    "df_movie_splited.head(3)\n",
    "df_movie_splited.info()"
   ]
  },
  {
   "cell_type": "code",
   "execution_count": 240,
   "id": "2fe48e1a",
   "metadata": {},
   "outputs": [
    {
     "name": "stdout",
     "output_type": "stream",
     "text": [
      "<class 'pandas.core.frame.DataFrame'>\n",
      "Int64Index: 274480 entries, 0 to 100835\n",
      "Data columns (total 7 columns):\n",
      " #   Column     Non-Null Count   Dtype  \n",
      "---  ------     --------------   -----  \n",
      " 0   userId     274480 non-null  int64  \n",
      " 1   movieId    274480 non-null  int64  \n",
      " 2   rating     274480 non-null  float64\n",
      " 3   timestamp  274480 non-null  int64  \n",
      " 4   title      274480 non-null  object \n",
      " 5   genres     274480 non-null  object \n",
      " 6   generos    274480 non-null  object \n",
      "dtypes: float64(1), int64(3), object(3)\n",
      "memory usage: 16.8+ MB\n"
     ]
    }
   ],
   "source": [
    "\n",
    "df_joited = df_rating.join(df_movie_splited.set_index('movieId'), on = 'movieId')\n",
    "df_joited.head(2)\n",
    "df_joited.info()\n"
   ]
  },
  {
   "cell_type": "code",
   "execution_count": null,
   "id": "18a121d5",
   "metadata": {},
   "outputs": [],
   "source": [
    "Perguntas:\n",
    "\n",
    "- Cada filme tem um rating médio. Qual a média desses ratings, por gênero?\n",
    "- Para cada gênero de filme, quantos usuários deram cada nota possível?"
   ]
  },
  {
   "cell_type": "code",
   "execution_count": 241,
   "id": "9a49b1a3",
   "metadata": {},
   "outputs": [
    {
     "data": {
      "text/plain": [
       "array(['Action', 'Sci-Fi', 'Thriller', 'Adventure', 'IMAX'], dtype=object)"
      ]
     },
     "execution_count": 241,
     "metadata": {},
     "output_type": "execute_result"
    }
   ],
   "source": [
    "# Quantos gêneros o filme \"The Matrix\" tem? Quais são os gêneros?\n",
    "\n",
    "mask_matrix = df_movie_splited.loc[df_movie_splited['title'].str.contains(\"Matrix\", regex=False)]\n",
    "mask_matrix\n",
    "mask_matrix.generos.unique()\n",
    "\n"
   ]
  },
  {
   "cell_type": "code",
   "execution_count": 243,
   "id": "0875d1c8",
   "metadata": {},
   "outputs": [
    {
     "data": {
      "text/plain": [
       "2.2680497073020436"
      ]
     },
     "execution_count": 243,
     "metadata": {},
     "output_type": "execute_result"
    }
   ],
   "source": [
    "#Quantos gêneros cada filme tem, em média?\n",
    "df_genero = df_movie_splited.groupby('title').agg('generos').count()\n",
    "df_genero.mean()"
   ]
  },
  {
   "cell_type": "code",
   "execution_count": 244,
   "id": "78ca3811",
   "metadata": {},
   "outputs": [
    {
     "data": {
      "text/plain": [
       "title\n",
       "Aqua Teen Hunger Force Colon Movie Film for Theaters (2007)        7\n",
       "Aelita: The Queen of Mars (Aelita) (1924)                          7\n",
       "Patlabor: The Movie (Kidô keisatsu patorebâ: The Movie) (1989)     8\n",
       "Confessions of a Dangerous Mind (2002)                             9\n",
       "Rubber (2010)                                                     10\n",
       "Name: generos, dtype: int64"
      ]
     },
     "execution_count": 244,
     "metadata": {},
     "output_type": "execute_result"
    }
   ],
   "source": [
    "#Quais são os cinco filmes com maior número de gêneros?\n",
    "df_top5 = df_movie_splited.groupby('title').agg('generos').count()\n",
    "df_top5.sort_values().tail(5)"
   ]
  },
  {
   "cell_type": "code",
   "execution_count": 250,
   "id": "9e44664d",
   "metadata": {},
   "outputs": [
    {
     "data": {
      "text/plain": [
       "title\n",
       "Matrix Reloaded, The (2003)        96\n",
       "Matrix Revolutions, The (2003)     79\n",
       "Matrix, The (1999)                278\n",
       "Name: userId, dtype: int64"
      ]
     },
     "execution_count": 250,
     "metadata": {},
     "output_type": "execute_result"
    }
   ],
   "source": [
    "#Quantos usuários deram nota para o filme \"The Matrix\"?\n",
    "\n",
    "df_joited_2 = df_rating.join(df_movie.set_index('movieId'), on = 'movieId')\n",
    "df_joited_2.head(2)\n",
    "\n",
    "mask_matrix = df_joited_2.loc[df_joited_2['title'].str.contains(\"Matrix\", regex=False)]\n",
    "mask_matrix.groupby('title').agg('userId').count()\n",
    "#mask_matrix['usuários'] = mask_matrix.userId.unique()\n",
    "#mask_matrix_2 = mask_matrix.groupby(['title','userId']).agg('userId').unique()\n",
    "#mask_matrix_2.groupby('title').agg('userId').count()\n"
   ]
  },
  {
   "cell_type": "code",
   "execution_count": 251,
   "id": "968fd908",
   "metadata": {},
   "outputs": [
    {
     "data": {
      "text/plain": [
       "title\n",
       "'71 (2014)                                   610.000000\n",
       "'Hellboy': The Seeds of Creation (2004)      332.000000\n",
       "'Round Midnight (1986)                       354.500000\n",
       "'Salem's Lot (2004)                          345.000000\n",
       "'Til There Was You (1997)                    229.000000\n",
       "                                                ...    \n",
       "eXistenZ (1999)                              389.954545\n",
       "xXx (2002)                                   272.916667\n",
       "xXx: State of the Union (2005)               386.000000\n",
       "¡Three Amigos! (1986)                        279.807692\n",
       "À nous la liberté (Freedom for Us) (1931)    527.000000\n",
       "Name: userId, Length: 9719, dtype: float64"
      ]
     },
     "execution_count": 251,
     "metadata": {},
     "output_type": "execute_result"
    }
   ],
   "source": [
    "# Quantos usuários, em média, deram nota para cada filme?\n",
    "\n",
    "df_joited_2.groupby('title').agg('userId').mean()"
   ]
  },
  {
   "cell_type": "code",
   "execution_count": 252,
   "id": "f61fe6ef",
   "metadata": {},
   "outputs": [
    {
     "data": {
      "text/plain": [
       "title\n",
       "'71 (2014)                   610.0\n",
       "13 Sins (2014)               610.0\n",
       "31 (2016)                    610.0\n",
       "ABCs of Death, The (2012)    610.0\n",
       "Abandoned, The (2006)        610.0\n",
       "Name: userId, dtype: float64"
      ]
     },
     "execution_count": 252,
     "metadata": {},
     "output_type": "execute_result"
    }
   ],
   "source": [
    "#Quais são os cinco filmes para os quais mais usuários deram nota?\n",
    "df_top_rating = df_joited_2.groupby('title').agg('userId').mean().copy()\n",
    "df_top_rating.nlargest(5)\n"
   ]
  },
  {
   "cell_type": "code",
   "execution_count": 253,
   "metadata": {},
   "outputs": [
    {
     "data": {
      "text/plain": [
       "title\n",
       "Matrix Reloaded, The (2003)       3.354167\n",
       "Matrix Revolutions, The (2003)    3.151899\n",
       "Matrix, The (1999)                4.192446\n",
       "Name: rating, dtype: float64"
      ]
     },
     "execution_count": 253,
     "metadata": {},
     "output_type": "execute_result"
    }
   ],
   "source": [
    "#Qual o rating médio do filme \"The Matrix\"?\n",
    "\n",
    "mask_matrix = df_joited_2.loc[df_joited_2['title'].str.contains(\"Matrix\", regex=False)]\n",
    "mask_matrix.groupby('title').agg('rating').mean()"
   ]
  }
 ],
 "metadata": {
  "interpreter": {
   "hash": "4ba06c617b5d4664cc87b0299ad1a30da63e27ca4947bcf79d65a58550694111"
  },
  "kernelspec": {
   "display_name": "Python 3.8.12 ('base')",
   "language": "python",
   "name": "python3"
  },
  "language_info": {
   "codemirror_mode": {
    "name": "ipython",
    "version": 3
   },
   "file_extension": ".py",
   "mimetype": "text/x-python",
   "name": "python",
   "nbconvert_exporter": "python",
   "pygments_lexer": "ipython3",
   "version": "3.8.12"
  }
 },
 "nbformat": 4,
 "nbformat_minor": 5
}
