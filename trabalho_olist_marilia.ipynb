{
 "cells": [
  {
   "cell_type": "markdown",
   "id": "69bcc70e",
   "metadata": {},
   "source": [
    "Processamento de dados:\n",
    "- criar tabela com todos os MQLs, com todas as informações disponíveis para cada um.\n",
    "- criar uma coluna com quais MQLs fecharam acordo e quais foram perdidos."
   ]
  },
  {
   "cell_type": "markdown",
   "id": "1a9716a1",
   "metadata": {},
   "source": [
    "Perguntas a serem respondidas:\n",
    "- Qual foi a taxa de conversão total?\n",
    "- Qual foi a taxa de conversão de cada origem?\n",
    "- Qual foi a taxa de conversão de cada página inicial?\n",
    "- Para cada SR, qual a receita média declarada dos leads?\n",
    "- Para cada SR, quantos de cada business_type a pessoa converteu?\n",
    "- Para cada SR, quantos de cada lead_behaviour_profile a pessoa converteu?\n",
    "- Para cada SR, quantos de cada lead_type a pessoa converteu?"
   ]
  },
  {
   "cell_type": "markdown",
   "id": "78ce753d",
   "metadata": {},
   "source": [
    "Extra:\n",
    "\n",
    "Caso consiga resolver as questões acima com facilidade, aproveite a base \"irmã\" dessa para fazer outras explorações que você ache interessante!\n",
    "\n",
    "https://www.kaggle.com/datasets/olistbr/brazilian-ecommerce\n",
    "\n",
    "Lembre de separar novamente em 2 etapas: \n",
    "1. Processamento dos dados, para criar uma tabela \"analítica\".\n",
    "2. Análise exploratória dos dados."
   ]
  },
  {
   "cell_type": "code",
   "execution_count": 16,
   "id": "c64fcc8f",
   "metadata": {},
   "outputs": [
    {
     "name": "stdout",
     "output_type": "stream",
     "text": [
      "<class 'pandas.core.frame.DataFrame'>\n",
      "RangeIndex: 842 entries, 0 to 841\n",
      "Data columns (total 14 columns):\n",
      " #   Column                         Non-Null Count  Dtype  \n",
      "---  ------                         --------------  -----  \n",
      " 0   mql_id                         842 non-null    object \n",
      " 1   seller_id                      842 non-null    object \n",
      " 2   sdr_id                         842 non-null    object \n",
      " 3   sr_id                          842 non-null    object \n",
      " 4   won_date                       842 non-null    object \n",
      " 5   business_segment               841 non-null    object \n",
      " 6   lead_type                      836 non-null    object \n",
      " 7   lead_behaviour_profile         665 non-null    object \n",
      " 8   has_company                    63 non-null     object \n",
      " 9   has_gtin                       64 non-null     object \n",
      " 10  average_stock                  66 non-null     object \n",
      " 11  business_type                  832 non-null    object \n",
      " 12  declared_product_catalog_size  69 non-null     float64\n",
      " 13  declared_monthly_revenue       842 non-null    float64\n",
      "dtypes: float64(2), object(12)\n",
      "memory usage: 92.2+ KB\n"
     ]
    }
   ],
   "source": [
    "import pandas as pd\n",
    "import numpy as np\n",
    "\n",
    "df = pd.read_table('\olist_closed_deals_dataset.csv',\n",
    "header=0, sep=',')\n",
    "df.info()"
   ]
  },
  {
   "cell_type": "code",
   "execution_count": 17,
   "id": "3a08211f",
   "metadata": {},
   "outputs": [
    {
     "name": "stdout",
     "output_type": "stream",
     "text": [
      "<class 'pandas.core.frame.DataFrame'>\n",
      "RangeIndex: 8000 entries, 0 to 7999\n",
      "Data columns (total 4 columns):\n",
      " #   Column              Non-Null Count  Dtype \n",
      "---  ------              --------------  ----- \n",
      " 0   mql_id              8000 non-null   object\n",
      " 1   first_contact_date  8000 non-null   object\n",
      " 2   landing_page_id     8000 non-null   object\n",
      " 3   origin              7940 non-null   object\n",
      "dtypes: object(4)\n",
      "memory usage: 250.1+ KB\n"
     ]
    }
   ],
   "source": [
    "df2 = pd.read_table('\olist_marketing_qualified_leads_dataset.csv',\n",
    "header=0, sep=',')\n",
    "df2.info()"
   ]
  },
  {
   "cell_type": "code",
   "execution_count": 29,
   "id": "ba5aa2b2",
   "metadata": {},
   "outputs": [
    {
     "name": "stdout",
     "output_type": "stream",
     "text": [
      "<class 'pandas.core.frame.DataFrame'>\n",
      "RangeIndex: 8000 entries, 0 to 7999\n",
      "Data columns (total 17 columns):\n",
      " #   Column                         Non-Null Count  Dtype  \n",
      "---  ------                         --------------  -----  \n",
      " 0   mql_id                         8000 non-null   object \n",
      " 1   first_contact_date             8000 non-null   object \n",
      " 2   landing_page_id                8000 non-null   object \n",
      " 3   origin                         7940 non-null   object \n",
      " 4   seller_id                      842 non-null    object \n",
      " 5   sdr_id                         842 non-null    object \n",
      " 6   sr_id                          842 non-null    object \n",
      " 7   won_date                       842 non-null    object \n",
      " 8   business_segment               841 non-null    object \n",
      " 9   lead_type                      836 non-null    object \n",
      " 10  lead_behaviour_profile         665 non-null    object \n",
      " 11  has_company                    63 non-null     object \n",
      " 12  has_gtin                       64 non-null     object \n",
      " 13  average_stock                  66 non-null     object \n",
      " 14  business_type                  832 non-null    object \n",
      " 15  declared_product_catalog_size  69 non-null     float64\n",
      " 16  declared_monthly_revenue       842 non-null    float64\n",
      "dtypes: float64(2), object(15)\n",
      "memory usage: 1.0+ MB\n"
     ]
    }
   ],
   "source": [
    "df3 = df2.join(df.set_index('mql_id'), on = 'mql_id')\n",
    "df3.head(2)\n",
    "df3.info()\n"
   ]
  },
  {
   "cell_type": "code",
   "execution_count": 91,
   "id": "898c8a98",
   "metadata": {},
   "outputs": [
    {
     "data": {
      "text/html": [
       "<div>\n",
       "<style scoped>\n",
       "    .dataframe tbody tr th:only-of-type {\n",
       "        vertical-align: middle;\n",
       "    }\n",
       "\n",
       "    .dataframe tbody tr th {\n",
       "        vertical-align: top;\n",
       "    }\n",
       "\n",
       "    .dataframe thead th {\n",
       "        text-align: right;\n",
       "    }\n",
       "</style>\n",
       "<table border=\"1\" class=\"dataframe\">\n",
       "  <thead>\n",
       "    <tr style=\"text-align: right;\">\n",
       "      <th></th>\n",
       "      <th>mql_id</th>\n",
       "      <th>first_contact_date</th>\n",
       "      <th>landing_page_id</th>\n",
       "      <th>origin</th>\n",
       "      <th>seller_id</th>\n",
       "      <th>sdr_id</th>\n",
       "      <th>sr_id</th>\n",
       "      <th>won_date</th>\n",
       "      <th>business_segment</th>\n",
       "      <th>lead_type</th>\n",
       "      <th>lead_behaviour_profile</th>\n",
       "      <th>has_company</th>\n",
       "      <th>has_gtin</th>\n",
       "      <th>average_stock</th>\n",
       "      <th>business_type</th>\n",
       "      <th>declared_product_catalog_size</th>\n",
       "      <th>declared_monthly_revenue</th>\n",
       "      <th>fechou_contrato</th>\n",
       "    </tr>\n",
       "  </thead>\n",
       "  <tbody>\n",
       "    <tr>\n",
       "      <th>0</th>\n",
       "      <td>dac32acd4db4c29c230538b72f8dd87d</td>\n",
       "      <td>2018-02-01</td>\n",
       "      <td>88740e65d5d6b056e0cda098e1ea6313</td>\n",
       "      <td>social</td>\n",
       "      <td>NaN</td>\n",
       "      <td>NaN</td>\n",
       "      <td>NaN</td>\n",
       "      <td>NaN</td>\n",
       "      <td>NaN</td>\n",
       "      <td>NaN</td>\n",
       "      <td>NaN</td>\n",
       "      <td>NaN</td>\n",
       "      <td>NaN</td>\n",
       "      <td>NaN</td>\n",
       "      <td>NaN</td>\n",
       "      <td>NaN</td>\n",
       "      <td>NaN</td>\n",
       "      <td>0</td>\n",
       "    </tr>\n",
       "    <tr>\n",
       "      <th>1</th>\n",
       "      <td>8c18d1de7f67e60dbd64e3c07d7e9d5d</td>\n",
       "      <td>2017-10-20</td>\n",
       "      <td>007f9098284a86ee80ddeb25d53e0af8</td>\n",
       "      <td>paid_search</td>\n",
       "      <td>NaN</td>\n",
       "      <td>NaN</td>\n",
       "      <td>NaN</td>\n",
       "      <td>NaN</td>\n",
       "      <td>NaN</td>\n",
       "      <td>NaN</td>\n",
       "      <td>NaN</td>\n",
       "      <td>NaN</td>\n",
       "      <td>NaN</td>\n",
       "      <td>NaN</td>\n",
       "      <td>NaN</td>\n",
       "      <td>NaN</td>\n",
       "      <td>NaN</td>\n",
       "      <td>0</td>\n",
       "    </tr>\n",
       "    <tr>\n",
       "      <th>2</th>\n",
       "      <td>b4bc852d233dfefc5131f593b538befa</td>\n",
       "      <td>2018-03-22</td>\n",
       "      <td>a7982125ff7aa3b2054c6e44f9d28522</td>\n",
       "      <td>organic_search</td>\n",
       "      <td>NaN</td>\n",
       "      <td>NaN</td>\n",
       "      <td>NaN</td>\n",
       "      <td>NaN</td>\n",
       "      <td>NaN</td>\n",
       "      <td>NaN</td>\n",
       "      <td>NaN</td>\n",
       "      <td>NaN</td>\n",
       "      <td>NaN</td>\n",
       "      <td>NaN</td>\n",
       "      <td>NaN</td>\n",
       "      <td>NaN</td>\n",
       "      <td>NaN</td>\n",
       "      <td>0</td>\n",
       "    </tr>\n",
       "    <tr>\n",
       "      <th>3</th>\n",
       "      <td>6be030b81c75970747525b843c1ef4f8</td>\n",
       "      <td>2018-01-22</td>\n",
       "      <td>d45d558f0daeecf3cccdffe3c59684aa</td>\n",
       "      <td>email</td>\n",
       "      <td>NaN</td>\n",
       "      <td>NaN</td>\n",
       "      <td>NaN</td>\n",
       "      <td>NaN</td>\n",
       "      <td>NaN</td>\n",
       "      <td>NaN</td>\n",
       "      <td>NaN</td>\n",
       "      <td>NaN</td>\n",
       "      <td>NaN</td>\n",
       "      <td>NaN</td>\n",
       "      <td>NaN</td>\n",
       "      <td>NaN</td>\n",
       "      <td>NaN</td>\n",
       "      <td>0</td>\n",
       "    </tr>\n",
       "    <tr>\n",
       "      <th>4</th>\n",
       "      <td>5420aad7fec3549a85876ba1c529bd84</td>\n",
       "      <td>2018-02-21</td>\n",
       "      <td>b48ec5f3b04e9068441002a19df93c6c</td>\n",
       "      <td>organic_search</td>\n",
       "      <td>2c43fb513632d29b3b58df74816f1b06</td>\n",
       "      <td>a8387c01a09e99ce014107505b92388c</td>\n",
       "      <td>4ef15afb4b2723d8f3d81e51ec7afefe</td>\n",
       "      <td>2018-02-26 19:58:54</td>\n",
       "      <td>pet</td>\n",
       "      <td>online_medium</td>\n",
       "      <td>cat</td>\n",
       "      <td>NaN</td>\n",
       "      <td>NaN</td>\n",
       "      <td>NaN</td>\n",
       "      <td>reseller</td>\n",
       "      <td>NaN</td>\n",
       "      <td>0.0</td>\n",
       "      <td>1</td>\n",
       "    </tr>\n",
       "  </tbody>\n",
       "</table>\n",
       "</div>"
      ],
      "text/plain": [
       "                             mql_id first_contact_date  \\\n",
       "0  dac32acd4db4c29c230538b72f8dd87d         2018-02-01   \n",
       "1  8c18d1de7f67e60dbd64e3c07d7e9d5d         2017-10-20   \n",
       "2  b4bc852d233dfefc5131f593b538befa         2018-03-22   \n",
       "3  6be030b81c75970747525b843c1ef4f8         2018-01-22   \n",
       "4  5420aad7fec3549a85876ba1c529bd84         2018-02-21   \n",
       "\n",
       "                    landing_page_id          origin  \\\n",
       "0  88740e65d5d6b056e0cda098e1ea6313          social   \n",
       "1  007f9098284a86ee80ddeb25d53e0af8     paid_search   \n",
       "2  a7982125ff7aa3b2054c6e44f9d28522  organic_search   \n",
       "3  d45d558f0daeecf3cccdffe3c59684aa           email   \n",
       "4  b48ec5f3b04e9068441002a19df93c6c  organic_search   \n",
       "\n",
       "                          seller_id                            sdr_id  \\\n",
       "0                               NaN                               NaN   \n",
       "1                               NaN                               NaN   \n",
       "2                               NaN                               NaN   \n",
       "3                               NaN                               NaN   \n",
       "4  2c43fb513632d29b3b58df74816f1b06  a8387c01a09e99ce014107505b92388c   \n",
       "\n",
       "                              sr_id             won_date business_segment  \\\n",
       "0                               NaN                  NaN              NaN   \n",
       "1                               NaN                  NaN              NaN   \n",
       "2                               NaN                  NaN              NaN   \n",
       "3                               NaN                  NaN              NaN   \n",
       "4  4ef15afb4b2723d8f3d81e51ec7afefe  2018-02-26 19:58:54              pet   \n",
       "\n",
       "       lead_type lead_behaviour_profile has_company has_gtin average_stock  \\\n",
       "0            NaN                    NaN         NaN      NaN           NaN   \n",
       "1            NaN                    NaN         NaN      NaN           NaN   \n",
       "2            NaN                    NaN         NaN      NaN           NaN   \n",
       "3            NaN                    NaN         NaN      NaN           NaN   \n",
       "4  online_medium                    cat         NaN      NaN           NaN   \n",
       "\n",
       "  business_type  declared_product_catalog_size  declared_monthly_revenue  \\\n",
       "0           NaN                            NaN                       NaN   \n",
       "1           NaN                            NaN                       NaN   \n",
       "2           NaN                            NaN                       NaN   \n",
       "3           NaN                            NaN                       NaN   \n",
       "4      reseller                            NaN                       0.0   \n",
       "\n",
       "   fechou_contrato  \n",
       "0                0  \n",
       "1                0  \n",
       "2                0  \n",
       "3                0  \n",
       "4                1  "
      ]
     },
     "execution_count": 91,
     "metadata": {},
     "output_type": "execute_result"
    }
   ],
   "source": [
    "df3['fechou_contrato'] = df3.won_date.notnull().astype(int)\n",
    "df3.head(5)"
   ]
  },
  {
   "cell_type": "code",
   "execution_count": 88,
   "id": "1c8bcd2b",
   "metadata": {},
   "outputs": [
    {
     "data": {
      "text/plain": [
       "0.10525"
      ]
     },
     "execution_count": 88,
     "metadata": {},
     "output_type": "execute_result"
    }
   ],
   "source": [
    "## Taxa de Coversão\n",
    "\n",
    "taxa_conv = df3['fechou_contrato'].sum()/df3['fechou_contrato'].count()\n",
    "taxa_conv\n"
   ]
  },
  {
   "cell_type": "code",
   "execution_count": 89,
   "id": "902c19e1",
   "metadata": {},
   "outputs": [
    {
     "data": {
      "text/plain": [
       "origin\n",
       "direct_traffic       0.112224\n",
       "display              0.050847\n",
       "email                0.030426\n",
       "organic_search       0.118031\n",
       "other                0.026667\n",
       "other_publicities    0.046154\n",
       "paid_search          0.122951\n",
       "referral             0.084507\n",
       "social               0.055556\n",
       "unknown              0.162875\n",
       "Name: fechou_contrato, dtype: float64"
      ]
     },
     "execution_count": 89,
     "metadata": {},
     "output_type": "execute_result"
    }
   ],
   "source": [
    "# Qual foi a taxa de conversão de cada origem?\n",
    "\n",
    "mask_fechou = df3.groupby('origin').agg('fechou_contrato').sum()\n",
    "mask_total = df3.groupby('origin').agg('fechou_contrato').count()\n",
    "\n",
    "taxa_conv_orig = mask_fechou/mask_total\n",
    "taxa_conv_orig"
   ]
  },
  {
   "cell_type": "code",
   "execution_count": 90,
   "id": "7d1b86be",
   "metadata": {},
   "outputs": [
    {
     "data": {
      "text/plain": [
       "landing_page_id\n",
       "007f9098284a86ee80ddeb25d53e0af8    0.060606\n",
       "01850876d34b43494b5f9879c366877b    0.000000\n",
       "0218f6be0b76aca72ab4d00ee9e8cf10    0.125000\n",
       "03c7c0ace395d80182db07ae2c30f034    0.000000\n",
       "04a75b75d5f4f3a16b0178fbe382da00    1.000000\n",
       "                                      ...   \n",
       "fd7c4cdfbfb7964b441618d54f88c38b    0.000000\n",
       "fd7d977e75d1ac5cfe6b93ffabb150b1    0.000000\n",
       "fe82aeadeaea2186478fe6353d6d5301    0.250000\n",
       "ff3416719616ad4921acb8c74e21d6f0    0.000000\n",
       "ffc62d6945fd1423539ec6d96326c37c    1.000000\n",
       "Name: fechou_contrato, Length: 495, dtype: float64"
      ]
     },
     "execution_count": 90,
     "metadata": {},
     "output_type": "execute_result"
    }
   ],
   "source": [
    "# Qual foi a taxa de conversão de cada página inicial?\n",
    "\n",
    "mask_fechou_landing = df3.groupby('landing_page_id').agg('fechou_contrato').sum()\n",
    "mask_total_landing = df3.groupby('landing_page_id').agg('fechou_contrato').count()\n",
    "\n",
    "taxa_conv_landing = mask_fechou_landing/mask_total_landing\n",
    "taxa_conv_landing"
   ]
  },
  {
   "cell_type": "code",
   "execution_count": 92,
   "id": "b493b31f",
   "metadata": {},
   "outputs": [
    {
     "data": {
      "text/plain": [
       "sr_id\n",
       "060c0a26f19f4d66b42e0d8796688490         0.000000\n",
       "068066e24f0c643eb1d089c7dd20cd73      7037.037037\n",
       "0a0fb2b07d841f84fb6714e35c723075      6000.000000\n",
       "2695de1affa7750089c0455f8ce27021      1694.915254\n",
       "34d40cdaf94010a1d05b0d6212f9e909     19000.000000\n",
       "495d4e95a8cf8bbf8b432b612a2aa328      6666.666667\n",
       "4b339f9567d060bcea4f5136b9f5949e     27777.777778\n",
       "4ef15afb4b2723d8f3d81e51ec7afefe    377293.233083\n",
       "56bf83c4bb35763a51c2baab501b4c67     12500.000000\n",
       "6565aa9ce3178a5caf6171827af3a9ba         0.000000\n",
       "6aa3b86a83d784b05f0e37e26b20860d      8000.000000\n",
       "85fc447d336637ba1df43e793199fbc8      1562.500000\n",
       "9749123c950bf8363ace42cb1c2d0815    103571.428571\n",
       "9ae085775a198122c5586fa830ff7f2b         0.000000\n",
       "9d12ef1a7eca3ec58c545c678af7869c     43333.333333\n",
       "9e4d1098a3b0f5da39b0bc48f9876645         0.000000\n",
       "a8387c01a09e99ce014107505b92388c     24038.692308\n",
       "b90f87164b5f8c2cfa5c8572834dbe3f         0.000000\n",
       "c638112b43f1d1b86dcabb0da720c901         0.000000\n",
       "d3d1e91a157ea7f90548eef82f1955e3      4939.024390\n",
       "de63de0d10a6012430098db33c679b0b    151415.094340\n",
       "fbf4aef3f6915dc0c3c97d6812522f6a         0.000000\n",
       "Name: declared_monthly_revenue, dtype: float64"
      ]
     },
     "execution_count": 92,
     "metadata": {},
     "output_type": "execute_result"
    }
   ],
   "source": [
    "#Para cada SR, qual a receita média declarada dos leads?\n",
    "\n",
    "mask_receita = df3.groupby('sr_id').agg('declared_monthly_revenue').mean()\n",
    "mask_receita\n"
   ]
  },
  {
   "cell_type": "code",
   "execution_count": 96,
   "id": "d62792f4",
   "metadata": {},
   "outputs": [
    {
     "data": {
      "text/plain": [
       "sr_id                             business_type\n",
       "060c0a26f19f4d66b42e0d8796688490  manufacturer      9\n",
       "                                  reseller         23\n",
       "068066e24f0c643eb1d089c7dd20cd73  manufacturer      6\n",
       "                                  reseller         21\n",
       "0a0fb2b07d841f84fb6714e35c723075  other             1\n",
       "2695de1affa7750089c0455f8ce27021  manufacturer     16\n",
       "                                  reseller         42\n",
       "34d40cdaf94010a1d05b0d6212f9e909  manufacturer      1\n",
       "                                  other             1\n",
       "                                  reseller          8\n",
       "495d4e95a8cf8bbf8b432b612a2aa328  manufacturer     14\n",
       "                                  reseller         47\n",
       "4b339f9567d060bcea4f5136b9f5949e  manufacturer      2\n",
       "                                  reseller          6\n",
       "4ef15afb4b2723d8f3d81e51ec7afefe  manufacturer     43\n",
       "                                  reseller         90\n",
       "56bf83c4bb35763a51c2baab501b4c67  manufacturer      8\n",
       "                                  reseller         16\n",
       "6565aa9ce3178a5caf6171827af3a9ba  manufacturer     19\n",
       "                                  reseller         54\n",
       "6aa3b86a83d784b05f0e37e26b20860d  reseller          1\n",
       "85fc447d336637ba1df43e793199fbc8  manufacturer     25\n",
       "                                  reseller         39\n",
       "9749123c950bf8363ace42cb1c2d0815  manufacturer      2\n",
       "                                  reseller          5\n",
       "9ae085775a198122c5586fa830ff7f2b  manufacturer     15\n",
       "                                  reseller         36\n",
       "9d12ef1a7eca3ec58c545c678af7869c  manufacturer      2\n",
       "                                  reseller          4\n",
       "9e4d1098a3b0f5da39b0bc48f9876645  manufacturer     10\n",
       "                                  reseller         14\n",
       "a8387c01a09e99ce014107505b92388c  manufacturer      4\n",
       "                                  other             1\n",
       "                                  reseller         21\n",
       "b90f87164b5f8c2cfa5c8572834dbe3f  reseller          1\n",
       "c638112b43f1d1b86dcabb0da720c901  manufacturer     12\n",
       "                                  reseller         22\n",
       "d3d1e91a157ea7f90548eef82f1955e3  manufacturer     19\n",
       "                                  reseller         61\n",
       "de63de0d10a6012430098db33c679b0b  manufacturer     12\n",
       "                                  reseller         40\n",
       "fbf4aef3f6915dc0c3c97d6812522f6a  manufacturer     23\n",
       "                                  reseller         36\n",
       "Name: fechou_contrato, dtype: int32"
      ]
     },
     "execution_count": 96,
     "metadata": {},
     "output_type": "execute_result"
    }
   ],
   "source": [
    "## Para cada SR, quantos de cada business_type a pessoa converteu?\n",
    "\n",
    "mask_bt = df3.groupby(['sr_id','business_type']).agg('fechou_contrato').sum()\n",
    "mask_bt"
   ]
  },
  {
   "cell_type": "code",
   "execution_count": 97,
   "id": "3028371f",
   "metadata": {},
   "outputs": [
    {
     "data": {
      "text/plain": [
       "sr_id                             lead_behaviour_profile\n",
       "060c0a26f19f4d66b42e0d8796688490  cat                       15\n",
       "                                  eagle                      2\n",
       "                                  shark                      1\n",
       "                                  wolf                       6\n",
       "068066e24f0c643eb1d089c7dd20cd73  cat                       11\n",
       "                                                            ..\n",
       "de63de0d10a6012430098db33c679b0b  wolf                       5\n",
       "fbf4aef3f6915dc0c3c97d6812522f6a  cat                       30\n",
       "                                  eagle                      9\n",
       "                                  shark                      2\n",
       "                                  wolf                       2\n",
       "Name: fechou_contrato, Length: 80, dtype: int32"
      ]
     },
     "execution_count": 97,
     "metadata": {},
     "output_type": "execute_result"
    }
   ],
   "source": [
    "## Para cada SR, quantos de cada lead_behaviour_profile a pessoa converteu?\n",
    "mask_lbp = df3.groupby(['sr_id','lead_behaviour_profile']).agg('fechou_contrato').sum()\n",
    "mask_lbp"
   ]
  },
  {
   "cell_type": "code",
   "execution_count": 98,
   "id": "84d211f8",
   "metadata": {},
   "outputs": [
    {
     "data": {
      "text/plain": [
       "sr_id                             lead_type      \n",
       "060c0a26f19f4d66b42e0d8796688490  industry            8\n",
       "                                  offline             1\n",
       "                                  online_beginner     3\n",
       "                                  online_big          2\n",
       "                                  online_medium      15\n",
       "                                                     ..\n",
       "fbf4aef3f6915dc0c3c97d6812522f6a  online_beginner     1\n",
       "                                  online_big          8\n",
       "                                  online_medium      30\n",
       "                                  online_small        6\n",
       "                                  online_top          2\n",
       "Name: fechou_contrato, Length: 118, dtype: int32"
      ]
     },
     "execution_count": 98,
     "metadata": {},
     "output_type": "execute_result"
    }
   ],
   "source": [
    "## Para cada SR, quantos de cada lead_type a pessoa converteu?\n",
    "\n",
    "mask_lt = df3.groupby(['sr_id','lead_type']).agg('fechou_contrato').sum()\n",
    "mask_lt"
   ]
  }
 ],
 "metadata": {
  "interpreter": {
   "hash": "4ba06c617b5d4664cc87b0299ad1a30da63e27ca4947bcf79d65a58550694111"
  },
  "kernelspec": {
   "display_name": "Python 3.8.12 ('base')",
   "language": "python",
   "name": "python3"
  },
  "language_info": {
   "codemirror_mode": {
    "name": "ipython",
    "version": 3
   },
   "file_extension": ".py",
   "mimetype": "text/x-python",
   "name": "python",
   "nbconvert_exporter": "python",
   "pygments_lexer": "ipython3",
   "version": "3.8.12"
  }
 },
 "nbformat": 4,
 "nbformat_minor": 5
}
